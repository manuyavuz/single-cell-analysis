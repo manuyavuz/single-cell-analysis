{
 "cells": [
  {
   "cell_type": "code",
   "execution_count": 1,
   "id": "laughing-offense",
   "metadata": {},
   "outputs": [],
   "source": [
    "import os\n",
    "import sys\n",
    "from pathlib import Path\n",
    "\n",
    "import numpy as np\n",
    "import matplotlib.pyplot as plt\n",
    "import pandas as pd"
   ]
  },
  {
   "cell_type": "code",
   "execution_count": 2,
   "id": "serial-monday",
   "metadata": {},
   "outputs": [],
   "source": [
    "mimic_path = Path('/data/users/yavuz/mimic3/physionet.org/files/mimiciii/1.4/')"
   ]
  },
  {
   "cell_type": "code",
   "execution_count": 3,
   "id": "western-romantic",
   "metadata": {},
   "outputs": [
    {
     "name": "stderr",
     "output_type": "stream",
     "text": [
      "/home/yavuz/.local/lib/python3.8/site-packages/IPython/core/interactiveshell.py:3165: DtypeWarning: Columns (4,5) have mixed types.Specify dtype option on import or set low_memory=False.\n",
      "  has_raised = await self.run_ast_nodes(code_ast.body, cell_name,\n"
     ]
    }
   ],
   "source": [
    "notes = pd.read_csv(mimic_path / 'NOTEEVENTS.csv.gz')"
   ]
  },
  {
   "cell_type": "code",
   "execution_count": 5,
   "id": "pediatric-robert",
   "metadata": {},
   "outputs": [],
   "source": [
    "ecg_notes = notes[notes.CATEGORY == 'ECG']"
   ]
  },
  {
   "cell_type": "code",
   "execution_count": 8,
   "id": "democratic-citation",
   "metadata": {},
   "outputs": [
    {
     "name": "stdout",
     "output_type": "stream",
     "text": [
      "Sinus tachycardia\n",
      "Short PR interval\n",
      "Possible anterior infarct - age undetermined\n",
      "Left atrial abnormality\n",
      "Inferior T wave changes are borderline\n",
      "Repolarization changes may be partly due to rate\n",
      "Low QRS voltages in limb leads\n",
      "Since previous tracing of [**2103-7-27**], no significant change\n",
      "\n",
      "\n"
     ]
    }
   ],
   "source": [
    "print(ecg_notes.iloc[0].TEXT)"
   ]
  },
  {
   "cell_type": "code",
   "execution_count": 12,
   "id": "rental-trust",
   "metadata": {},
   "outputs": [
    {
     "data": {
      "text/plain": [
       "count    209051.000000\n",
       "mean        211.710253\n",
       "std         101.803060\n",
       "min           3.000000\n",
       "25%         135.000000\n",
       "50%         192.000000\n",
       "75%         267.000000\n",
       "max        1236.000000\n",
       "Name: TEXT, dtype: float64"
      ]
     },
     "execution_count": 12,
     "metadata": {},
     "output_type": "execute_result"
    }
   ],
   "source": [
    "ecg_notes.TEXT.apply(len).describe()"
   ]
  },
  {
   "cell_type": "code",
   "execution_count": 17,
   "id": "alpha-creator",
   "metadata": {},
   "outputs": [
    {
     "name": "stdout",
     "output_type": "stream",
     "text": [
      "Sinus rhythm with A-V conduction delay.  Inferior myocardial infarction with\n",
      "ST-T wave configuration consistent with acute process.  Right-sided chest\n",
      "leads show one to two millimeters of ST segment elevation in leads V3R and V4R.\n",
      "Since the previous tracing of the same date right-sided chest leads are taken.\n",
      "TRACING #2\n",
      "\n",
      "\n"
     ]
    }
   ],
   "source": [
    "print(ecg_notes[ecg_notes.TEXT.str.len() > 300].iloc[0].TEXT)"
   ]
  }
 ],
 "metadata": {
  "kernelspec": {
   "display_name": "Python 3",
   "language": "python",
   "name": "python3"
  },
  "language_info": {
   "codemirror_mode": {
    "name": "ipython",
    "version": 3
   },
   "file_extension": ".py",
   "mimetype": "text/x-python",
   "name": "python",
   "nbconvert_exporter": "python",
   "pygments_lexer": "ipython3",
   "version": "3.8.5"
  }
 },
 "nbformat": 4,
 "nbformat_minor": 5
}
