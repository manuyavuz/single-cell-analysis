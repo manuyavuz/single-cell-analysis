{
 "cells": [
  {
   "cell_type": "code",
   "execution_count": 1,
   "metadata": {
    "colab": {
     "base_uri": "https://localhost:8080/",
     "height": 538
    },
    "id": "wpvqb5kc4ZHN",
    "outputId": "d7638476-5234-49bb-8e63-5cd4917f0404"
   },
   "outputs": [
    {
     "ename": "KeyboardInterrupt",
     "evalue": "",
     "output_type": "error",
     "traceback": [
      "\u001b[0;31m---------------------------------------------------------------------------\u001b[0m",
      "\u001b[0;31mKeyboardInterrupt\u001b[0m                         Traceback (most recent call last)",
      "\u001b[0;32m<ipython-input-1-98b686151deb>\u001b[0m in \u001b[0;36m<module>\u001b[0;34m\u001b[0m\n\u001b[1;32m     12\u001b[0m \u001b[0;32mimport\u001b[0m \u001b[0mmatplotlib\u001b[0m\u001b[0;34m.\u001b[0m\u001b[0mpyplot\u001b[0m \u001b[0;32mas\u001b[0m \u001b[0mplt\u001b[0m\u001b[0;34m\u001b[0m\u001b[0;34m\u001b[0m\u001b[0m\n\u001b[1;32m     13\u001b[0m \u001b[0;32mimport\u001b[0m \u001b[0mscprep\u001b[0m\u001b[0;34m\u001b[0m\u001b[0;34m\u001b[0m\u001b[0m\n\u001b[0;32m---> 14\u001b[0;31m \u001b[0;32mimport\u001b[0m \u001b[0mgraphtools\u001b[0m \u001b[0;32mas\u001b[0m \u001b[0mgt\u001b[0m\u001b[0;34m\u001b[0m\u001b[0;34m\u001b[0m\u001b[0m\n\u001b[0m\u001b[1;32m     15\u001b[0m \u001b[0;32mimport\u001b[0m \u001b[0mphate\u001b[0m\u001b[0;34m\u001b[0m\u001b[0;34m\u001b[0m\u001b[0m\n\u001b[1;32m     16\u001b[0m \u001b[0;32mfrom\u001b[0m \u001b[0mscipy\u001b[0m \u001b[0;32mimport\u001b[0m \u001b[0msparse\u001b[0m\u001b[0;34m\u001b[0m\u001b[0;34m\u001b[0m\u001b[0m\n",
      "\u001b[0;32m~/miniconda3/lib/python3.8/site-packages/graphtools/__init__.py\u001b[0m in \u001b[0;36m<module>\u001b[0;34m\u001b[0m\n\u001b[0;32m----> 1\u001b[0;31m \u001b[0;32mfrom\u001b[0m \u001b[0;34m.\u001b[0m\u001b[0mapi\u001b[0m \u001b[0;32mimport\u001b[0m \u001b[0mGraph\u001b[0m\u001b[0;34m,\u001b[0m \u001b[0mfrom_igraph\u001b[0m\u001b[0;34m,\u001b[0m \u001b[0mread_pickle\u001b[0m\u001b[0;34m\u001b[0m\u001b[0;34m\u001b[0m\u001b[0m\n\u001b[0m\u001b[1;32m      2\u001b[0m \u001b[0;32mfrom\u001b[0m \u001b[0;34m.\u001b[0m\u001b[0mversion\u001b[0m \u001b[0;32mimport\u001b[0m \u001b[0m__version__\u001b[0m\u001b[0;34m\u001b[0m\u001b[0;34m\u001b[0m\u001b[0m\n",
      "\u001b[0;32m~/miniconda3/lib/python3.8/site-packages/graphtools/api.py\u001b[0m in \u001b[0;36m<module>\u001b[0;34m\u001b[0m\n\u001b[1;32m      3\u001b[0m \u001b[0;32mfrom\u001b[0m \u001b[0mscipy\u001b[0m \u001b[0;32mimport\u001b[0m \u001b[0msparse\u001b[0m\u001b[0;34m\u001b[0m\u001b[0;34m\u001b[0m\u001b[0m\n\u001b[1;32m      4\u001b[0m \u001b[0;32mimport\u001b[0m \u001b[0mpickle\u001b[0m\u001b[0;34m\u001b[0m\u001b[0;34m\u001b[0m\u001b[0m\n\u001b[0;32m----> 5\u001b[0;31m \u001b[0;32mimport\u001b[0m \u001b[0mpygsp\u001b[0m\u001b[0;34m\u001b[0m\u001b[0;34m\u001b[0m\u001b[0m\n\u001b[0m\u001b[1;32m      6\u001b[0m \u001b[0;32mimport\u001b[0m \u001b[0mtasklogger\u001b[0m\u001b[0;34m\u001b[0m\u001b[0;34m\u001b[0m\u001b[0m\n\u001b[1;32m      7\u001b[0m \u001b[0;34m\u001b[0m\u001b[0m\n",
      "\u001b[0;32m~/miniconda3/lib/python3.8/site-packages/pygsp/__init__.py\u001b[0m in \u001b[0;36m<module>\u001b[0;34m\u001b[0m\n\u001b[1;32m     29\u001b[0m ]\n\u001b[1;32m     30\u001b[0m \u001b[0;34m\u001b[0m\u001b[0m\n\u001b[0;32m---> 31\u001b[0;31m \u001b[0m_utils\u001b[0m\u001b[0;34m.\u001b[0m\u001b[0mimport_modules\u001b[0m\u001b[0;34m(\u001b[0m\u001b[0m__all__\u001b[0m\u001b[0;34m[\u001b[0m\u001b[0;34m:\u001b[0m\u001b[0;34m:\u001b[0m\u001b[0;34m-\u001b[0m\u001b[0;36m1\u001b[0m\u001b[0;34m]\u001b[0m\u001b[0;34m,\u001b[0m \u001b[0;34m'pygsp'\u001b[0m\u001b[0;34m,\u001b[0m \u001b[0;34m'pygsp'\u001b[0m\u001b[0;34m)\u001b[0m\u001b[0;34m\u001b[0m\u001b[0;34m\u001b[0m\u001b[0m\n\u001b[0m\u001b[1;32m     32\u001b[0m \u001b[0;34m\u001b[0m\u001b[0m\n\u001b[1;32m     33\u001b[0m \u001b[0m__version__\u001b[0m \u001b[0;34m=\u001b[0m \u001b[0;34m'0.5.1'\u001b[0m\u001b[0;34m\u001b[0m\u001b[0;34m\u001b[0m\u001b[0m\n",
      "\u001b[0;32m~/miniconda3/lib/python3.8/site-packages/pygsp/utils.py\u001b[0m in \u001b[0;36mimport_modules\u001b[0;34m(names, src, dst)\u001b[0m\n\u001b[1;32m    405\u001b[0m     \u001b[0;34m\"\"\"Import modules in package.\"\"\"\u001b[0m\u001b[0;34m\u001b[0m\u001b[0;34m\u001b[0m\u001b[0m\n\u001b[1;32m    406\u001b[0m     \u001b[0;32mfor\u001b[0m \u001b[0mname\u001b[0m \u001b[0;32min\u001b[0m \u001b[0mnames\u001b[0m\u001b[0;34m:\u001b[0m\u001b[0;34m\u001b[0m\u001b[0;34m\u001b[0m\u001b[0m\n\u001b[0;32m--> 407\u001b[0;31m         \u001b[0mmodule\u001b[0m \u001b[0;34m=\u001b[0m \u001b[0mimportlib\u001b[0m\u001b[0;34m.\u001b[0m\u001b[0mimport_module\u001b[0m\u001b[0;34m(\u001b[0m\u001b[0msrc\u001b[0m \u001b[0;34m+\u001b[0m \u001b[0;34m'.'\u001b[0m \u001b[0;34m+\u001b[0m \u001b[0mname\u001b[0m\u001b[0;34m)\u001b[0m\u001b[0;34m\u001b[0m\u001b[0;34m\u001b[0m\u001b[0m\n\u001b[0m\u001b[1;32m    408\u001b[0m         \u001b[0msetattr\u001b[0m\u001b[0;34m(\u001b[0m\u001b[0msys\u001b[0m\u001b[0;34m.\u001b[0m\u001b[0mmodules\u001b[0m\u001b[0;34m[\u001b[0m\u001b[0mdst\u001b[0m\u001b[0;34m]\u001b[0m\u001b[0;34m,\u001b[0m \u001b[0mname\u001b[0m\u001b[0;34m,\u001b[0m \u001b[0mmodule\u001b[0m\u001b[0;34m)\u001b[0m\u001b[0;34m\u001b[0m\u001b[0;34m\u001b[0m\u001b[0m\n\u001b[1;32m    409\u001b[0m \u001b[0;34m\u001b[0m\u001b[0m\n",
      "\u001b[0;32m~/miniconda3/lib/python3.8/importlib/__init__.py\u001b[0m in \u001b[0;36mimport_module\u001b[0;34m(name, package)\u001b[0m\n\u001b[1;32m    125\u001b[0m                 \u001b[0;32mbreak\u001b[0m\u001b[0;34m\u001b[0m\u001b[0;34m\u001b[0m\u001b[0m\n\u001b[1;32m    126\u001b[0m             \u001b[0mlevel\u001b[0m \u001b[0;34m+=\u001b[0m \u001b[0;36m1\u001b[0m\u001b[0;34m\u001b[0m\u001b[0;34m\u001b[0m\u001b[0m\n\u001b[0;32m--> 127\u001b[0;31m     \u001b[0;32mreturn\u001b[0m \u001b[0m_bootstrap\u001b[0m\u001b[0;34m.\u001b[0m\u001b[0m_gcd_import\u001b[0m\u001b[0;34m(\u001b[0m\u001b[0mname\u001b[0m\u001b[0;34m[\u001b[0m\u001b[0mlevel\u001b[0m\u001b[0;34m:\u001b[0m\u001b[0;34m]\u001b[0m\u001b[0;34m,\u001b[0m \u001b[0mpackage\u001b[0m\u001b[0;34m,\u001b[0m \u001b[0mlevel\u001b[0m\u001b[0;34m)\u001b[0m\u001b[0;34m\u001b[0m\u001b[0;34m\u001b[0m\u001b[0m\n\u001b[0m\u001b[1;32m    128\u001b[0m \u001b[0;34m\u001b[0m\u001b[0m\n\u001b[1;32m    129\u001b[0m \u001b[0;34m\u001b[0m\u001b[0m\n",
      "\u001b[0;32m~/miniconda3/lib/python3.8/site-packages/pygsp/reduction.py\u001b[0m in \u001b[0;36m<module>\u001b[0;34m\u001b[0m\n\u001b[1;32m     21\u001b[0m \u001b[0;32mfrom\u001b[0m \u001b[0mscipy\u001b[0m\u001b[0;34m.\u001b[0m\u001b[0msparse\u001b[0m \u001b[0;32mimport\u001b[0m \u001b[0mlinalg\u001b[0m\u001b[0;34m\u001b[0m\u001b[0;34m\u001b[0m\u001b[0m\n\u001b[1;32m     22\u001b[0m \u001b[0;34m\u001b[0m\u001b[0m\n\u001b[0;32m---> 23\u001b[0;31m \u001b[0;32mfrom\u001b[0m \u001b[0mpygsp\u001b[0m \u001b[0;32mimport\u001b[0m \u001b[0mgraphs\u001b[0m\u001b[0;34m,\u001b[0m \u001b[0mfilters\u001b[0m\u001b[0;34m,\u001b[0m \u001b[0mutils\u001b[0m\u001b[0;34m\u001b[0m\u001b[0;34m\u001b[0m\u001b[0m\n\u001b[0m\u001b[1;32m     24\u001b[0m \u001b[0;34m\u001b[0m\u001b[0m\n\u001b[1;32m     25\u001b[0m \u001b[0;34m\u001b[0m\u001b[0m\n",
      "\u001b[0;32m~/miniconda3/lib/python3.8/site-packages/pygsp/graphs/__init__.py\u001b[0m in \u001b[0;36m<module>\u001b[0;34m\u001b[0m\n\u001b[1;32m    164\u001b[0m \u001b[0m__all__\u001b[0m \u001b[0;34m=\u001b[0m \u001b[0m_GRAPHS\u001b[0m \u001b[0;34m+\u001b[0m \u001b[0m_NNGRAPHS\u001b[0m\u001b[0;34m\u001b[0m\u001b[0;34m\u001b[0m\u001b[0m\n\u001b[1;32m    165\u001b[0m \u001b[0;34m\u001b[0m\u001b[0m\n\u001b[0;32m--> 166\u001b[0;31m \u001b[0m_utils\u001b[0m\u001b[0;34m.\u001b[0m\u001b[0mimport_classes\u001b[0m\u001b[0;34m(\u001b[0m\u001b[0m_GRAPHS\u001b[0m\u001b[0;34m,\u001b[0m \u001b[0;34m'graphs'\u001b[0m\u001b[0;34m,\u001b[0m \u001b[0;34m'graphs'\u001b[0m\u001b[0;34m)\u001b[0m\u001b[0;34m\u001b[0m\u001b[0;34m\u001b[0m\u001b[0m\n\u001b[0m\u001b[1;32m    167\u001b[0m \u001b[0m_utils\u001b[0m\u001b[0;34m.\u001b[0m\u001b[0mimport_classes\u001b[0m\u001b[0;34m(\u001b[0m\u001b[0m_NNGRAPHS\u001b[0m\u001b[0;34m,\u001b[0m \u001b[0;34m'graphs.nngraphs'\u001b[0m\u001b[0;34m,\u001b[0m \u001b[0;34m'graphs'\u001b[0m\u001b[0;34m)\u001b[0m\u001b[0;34m\u001b[0m\u001b[0;34m\u001b[0m\u001b[0m\n",
      "\u001b[0;32m~/miniconda3/lib/python3.8/site-packages/pygsp/utils.py\u001b[0m in \u001b[0;36mimport_classes\u001b[0;34m(names, src, dst)\u001b[0m\n\u001b[1;32m    412\u001b[0m     \u001b[0;34m\"\"\"Import classes in package from their implementation modules.\"\"\"\u001b[0m\u001b[0;34m\u001b[0m\u001b[0;34m\u001b[0m\u001b[0m\n\u001b[1;32m    413\u001b[0m     \u001b[0;32mfor\u001b[0m \u001b[0mname\u001b[0m \u001b[0;32min\u001b[0m \u001b[0mnames\u001b[0m\u001b[0;34m:\u001b[0m\u001b[0;34m\u001b[0m\u001b[0;34m\u001b[0m\u001b[0m\n\u001b[0;32m--> 414\u001b[0;31m         \u001b[0mmodule\u001b[0m \u001b[0;34m=\u001b[0m \u001b[0mimportlib\u001b[0m\u001b[0;34m.\u001b[0m\u001b[0mimport_module\u001b[0m\u001b[0;34m(\u001b[0m\u001b[0;34m'pygsp.'\u001b[0m \u001b[0;34m+\u001b[0m \u001b[0msrc\u001b[0m \u001b[0;34m+\u001b[0m \u001b[0;34m'.'\u001b[0m \u001b[0;34m+\u001b[0m \u001b[0mname\u001b[0m\u001b[0;34m.\u001b[0m\u001b[0mlower\u001b[0m\u001b[0;34m(\u001b[0m\u001b[0;34m)\u001b[0m\u001b[0;34m)\u001b[0m\u001b[0;34m\u001b[0m\u001b[0;34m\u001b[0m\u001b[0m\n\u001b[0m\u001b[1;32m    415\u001b[0m         \u001b[0msetattr\u001b[0m\u001b[0;34m(\u001b[0m\u001b[0msys\u001b[0m\u001b[0;34m.\u001b[0m\u001b[0mmodules\u001b[0m\u001b[0;34m[\u001b[0m\u001b[0;34m'pygsp.'\u001b[0m \u001b[0;34m+\u001b[0m \u001b[0mdst\u001b[0m\u001b[0;34m]\u001b[0m\u001b[0;34m,\u001b[0m \u001b[0mname\u001b[0m\u001b[0;34m,\u001b[0m \u001b[0mgetattr\u001b[0m\u001b[0;34m(\u001b[0m\u001b[0mmodule\u001b[0m\u001b[0;34m,\u001b[0m \u001b[0mname\u001b[0m\u001b[0;34m)\u001b[0m\u001b[0;34m)\u001b[0m\u001b[0;34m\u001b[0m\u001b[0;34m\u001b[0m\u001b[0m\n\u001b[1;32m    416\u001b[0m \u001b[0;34m\u001b[0m\u001b[0m\n",
      "\u001b[0;32m~/miniconda3/lib/python3.8/importlib/__init__.py\u001b[0m in \u001b[0;36mimport_module\u001b[0;34m(name, package)\u001b[0m\n\u001b[1;32m    125\u001b[0m                 \u001b[0;32mbreak\u001b[0m\u001b[0;34m\u001b[0m\u001b[0;34m\u001b[0m\u001b[0m\n\u001b[1;32m    126\u001b[0m             \u001b[0mlevel\u001b[0m \u001b[0;34m+=\u001b[0m \u001b[0;36m1\u001b[0m\u001b[0;34m\u001b[0m\u001b[0;34m\u001b[0m\u001b[0m\n\u001b[0;32m--> 127\u001b[0;31m     \u001b[0;32mreturn\u001b[0m \u001b[0m_bootstrap\u001b[0m\u001b[0;34m.\u001b[0m\u001b[0m_gcd_import\u001b[0m\u001b[0;34m(\u001b[0m\u001b[0mname\u001b[0m\u001b[0;34m[\u001b[0m\u001b[0mlevel\u001b[0m\u001b[0;34m:\u001b[0m\u001b[0;34m]\u001b[0m\u001b[0;34m,\u001b[0m \u001b[0mpackage\u001b[0m\u001b[0;34m,\u001b[0m \u001b[0mlevel\u001b[0m\u001b[0;34m)\u001b[0m\u001b[0;34m\u001b[0m\u001b[0;34m\u001b[0m\u001b[0m\n\u001b[0m\u001b[1;32m    128\u001b[0m \u001b[0;34m\u001b[0m\u001b[0m\n\u001b[1;32m    129\u001b[0m \u001b[0;34m\u001b[0m\u001b[0m\n",
      "\u001b[0;32m~/miniconda3/lib/python3.8/site-packages/pygsp/graphs/graph.py\u001b[0m in \u001b[0;36m<module>\u001b[0;34m\u001b[0m\n\u001b[1;32m      7\u001b[0m \u001b[0;34m\u001b[0m\u001b[0m\n\u001b[1;32m      8\u001b[0m \u001b[0;32mfrom\u001b[0m \u001b[0mpygsp\u001b[0m \u001b[0;32mimport\u001b[0m \u001b[0mutils\u001b[0m\u001b[0;34m\u001b[0m\u001b[0;34m\u001b[0m\u001b[0m\n\u001b[0;32m----> 9\u001b[0;31m \u001b[0;32mfrom\u001b[0m \u001b[0;34m.\u001b[0m \u001b[0;32mimport\u001b[0m \u001b[0mfourier\u001b[0m\u001b[0;34m,\u001b[0m \u001b[0mdifference\u001b[0m  \u001b[0;31m# prevent circular import in Python < 3.5\u001b[0m\u001b[0;34m\u001b[0m\u001b[0;34m\u001b[0m\u001b[0m\n\u001b[0m\u001b[1;32m     10\u001b[0m \u001b[0;34m\u001b[0m\u001b[0m\n\u001b[1;32m     11\u001b[0m \u001b[0;34m\u001b[0m\u001b[0m\n",
      "\u001b[0;32m~/miniconda3/lib/python3.8/importlib/_bootstrap.py\u001b[0m in \u001b[0;36m_find_and_load\u001b[0;34m(name, import_)\u001b[0m\n",
      "\u001b[0;32m~/miniconda3/lib/python3.8/importlib/_bootstrap.py\u001b[0m in \u001b[0;36m_find_and_load_unlocked\u001b[0;34m(name, import_)\u001b[0m\n",
      "\u001b[0;32m~/miniconda3/lib/python3.8/importlib/_bootstrap.py\u001b[0m in \u001b[0;36m_load_unlocked\u001b[0;34m(spec)\u001b[0m\n",
      "\u001b[0;32m~/miniconda3/lib/python3.8/importlib/_bootstrap_external.py\u001b[0m in \u001b[0;36mexec_module\u001b[0;34m(self, module)\u001b[0m\n",
      "\u001b[0;32m~/miniconda3/lib/python3.8/importlib/_bootstrap_external.py\u001b[0m in \u001b[0;36mget_code\u001b[0;34m(self, fullname)\u001b[0m\n",
      "\u001b[0;32m~/miniconda3/lib/python3.8/importlib/_bootstrap_external.py\u001b[0m in \u001b[0;36mget_data\u001b[0;34m(self, path)\u001b[0m\n",
      "\u001b[0;31mKeyboardInterrupt\u001b[0m: "
     ]
    }
   ],
   "source": [
    "%load_ext autoreload\n",
    "%autoreload 2\n",
    "\n",
    "import os\n",
    "import time\n",
    "import datetime\n",
    "import glob\n",
    "import scanpy as sc\n",
    "import pandas as pd\n",
    "import numpy as np\n",
    "import seaborn as sns\n",
    "import matplotlib.pyplot as plt\n",
    "import scprep\n",
    "import graphtools as gt\n",
    "import phate\n",
    "from scipy import sparse\n",
    "from scipy.stats import zscore \n",
    "from scipy.stats import gaussian_kde\n",
    "\n",
    "from geomloss import SamplesLoss\n",
    "\n",
    "# import torch \n",
    "# import torch.nn as nn\n",
    "# import torch.nn.functional as F\n",
    "# import torch.optim as optim\n",
    "\n",
    "import warnings\n",
    "import sys\n",
    "sys.path.append('/home/ngr4/project/scripts/')\n",
    "\n",
    "plt.rc('font', size = 8)\n",
    "plt.rc('font', family='sans serif')\n",
    "plt.rcParams['pdf.fonttype']=42\n",
    "plt.rcParams['ps.fonttype']=42\n",
    "plt.rcParams['legend.frameon']=False\n",
    "sns.set_style(\"ticks\")\n",
    "\n",
    "import os\n",
    "import time\n",
    "import datetime\n",
    "import glob\n",
    "import scanpy as sc\n",
    "import pandas as pd\n",
    "import numpy as np\n",
    "import seaborn as sns\n",
    "import matplotlib.pyplot as plt\n",
    "import scprep\n",
    "import graphtools as gt\n",
    "import phate\n",
    "from scipy import sparse\n",
    "from scipy.stats import zscore \n",
    "from scipy.stats import gaussian_kde\n",
    "\n",
    "# from geomloss import SamplesLoss\n",
    "\n",
    "# import torch \n",
    "# import torch.nn as nn\n",
    "# import torch.nn.functional as F\n",
    "# import torch.optim as optim\n",
    "\n",
    "import warnings\n",
    "import sys\n",
    "\n",
    "import os\n",
    "import sys\n",
    "from pathlib import Path\n",
    "\n",
    "import ot\n",
    "import ot.plot\n",
    "import seaborn as sns\n",
    "\n",
    "sys.path.append('..')\n",
    "from single_cell_analysis import datasets\n",
    "\n",
    "plt.rc('font', size = 8)\n",
    "plt.rc('font', family='sans serif')\n",
    "plt.rcParams['pdf.fonttype']=42\n",
    "plt.rcParams['ps.fonttype']=42\n",
    "plt.rcParams['legend.frameon']=False\n",
    "sns.set_style(\"ticks\")"
   ]
  },
  {
   "cell_type": "code",
   "execution_count": null,
   "metadata": {
    "id": "vo6I0gvk4ZHR",
    "outputId": "d1078d80-69b6-492e-9daa-261ac01c60a5"
   },
   "outputs": [],
   "source": [
    "dfp = '/gpfs/ycga/sequencers/pacbio/gw92/10x/data_sent/maa252/091020/*/filtered_feature_bc_matrix/'\n",
    "data_files = glob.glob(dfp)\n",
    "sample_suffix = '_MON_crispr'\n",
    "\n",
    "pfp = '/home/myn2/single-cell-analysis/results'\n",
    "pdfp = '/home/myn2/single-cell-analysis/results'\n",
    "\n",
    "if True:\n",
    "    # first load\n",
    "    adatas = {}\n",
    "    for i, file in enumerate(data_files):\n",
    "        if i==0:\n",
    "            adata = sc.read_10x_mtx(file)\n",
    "            batch_key = file.split('/filtered_')[0].split('/')[-1].split(sample_suffix)[0]\n",
    "            adata.var_names_make_unique()\n",
    "        else:\n",
    "            adatas[file.split('/filtered_')[0].split('/')[-1].split(sample_suffix)[0]] = sc.read_10x_mtx(file)\n",
    "            adatas[file.split('/filtered_')[0].split('/')[-1].split(sample_suffix)[0]].var_names_make_unique()\n",
    "\n",
    "    adata = adata.concatenate(*adatas.values(), batch_categories=[batch_key]+list(adatas.keys()))\n",
    "    del adatas\n",
    "    \n",
    "    sc.pp.calculate_qc_metrics(adata,inplace=True)\n",
    "    mito_genes = adata.var_names.str.startswith('MT-')\n",
    "    adata.obs['pmito'] = np.sum(adata[:, mito_genes].X, axis=1) / np.sum(adata.X, axis=1)\n",
    "    print('Ncells=%d have >10percent mt expression' % np.sum(adata.obs['pmito']>0.1))\n",
    "    print('Ncells=%d have <200 genes expressed' % np.sum(adata.obs['n_genes_by_counts']<200))\n",
    "    print('Ngenes=%d have <3 genes expressed' % np.sum(adata.var['n_cells_by_counts'] < 3))\n",
    "    sc.pp.filter_cells(adata, min_genes=200)\n",
    "    sc.pp.filter_genes(adata, min_cells=3) # filtering cells gets rid of some genes of interest\n",
    "    adata.raw = adata\n",
    "    if False:\n",
    "        # filter \n",
    "        adata = adata[adata.obs.pmito <= 0.1, :]\n",
    "    sc.pp.normalize_total(adata)\n",
    "    sc.pp.sqrt(adata)\n",
    "    sc.tl.pca(adata, n_comps=100)\n",
    "    \n",
    "    if True :\n",
    "        # save\n",
    "        adata.write(os.path.join(pdfp,'crispr_shallow.h5ad'))\n",
    "        print('\\n... saved @'+datetime.datetime.now().strftime('%y%m%d.%H:%M:%S'))\n",
    "        \n",
    "else:\n",
    "    adata = sc.read_h5ad(os.path.join(pdfp,'crispr_shallow.h5ad'))"
   ]
  },
  {
   "cell_type": "code",
   "execution_count": null,
   "metadata": {},
   "outputs": [],
   "source": [
    "sc.pl.pca(adata, color=['SARS-CoV-2', 'batch'])"
   ]
  },
  {
   "cell_type": "code",
   "execution_count": null,
   "metadata": {
    "id": "ig0oyNXR4ZHS",
    "outputId": "f92325f6-7840-4d9b-b712-faa551346afb"
   },
   "outputs": [],
   "source": [
    "adata.obs"
   ]
  },
  {
   "cell_type": "code",
   "execution_count": null,
   "metadata": {
    "id": "70CN17gm4ZHT",
    "outputId": "feaea00d-8ba1-4efb-b568-35baadaa6eba"
   },
   "outputs": [],
   "source": [
    "guide_mappings = glob.glob('/gpfs/ycga/sequencers/pacbio/gw92/10x/data_sent/maa252/091020/*/crispr_analysis/protospacer_calls_per_cell.csv')\n",
    "guide_mappings"
   ]
  },
  {
   "cell_type": "code",
   "execution_count": null,
   "metadata": {
    "id": "kRfI2xl84ZHT"
   },
   "outputs": [],
   "source": [
    "mock_map = pd.read_csv('/gpfs/ycga/sequencers/pacbio/gw92/10x/data_sent/maa252/091020/MOCK_MON_crispr/crispr_analysis/protospacer_calls_per_cell.csv')\n",
    "sars_map = pd.read_csv('/gpfs/ycga/sequencers/pacbio/gw92/10x/data_sent/maa252/091020/SARS2_MON_crispr/crispr_analysis/protospacer_calls_per_cell.csv')"
   ]
  },
  {
   "cell_type": "code",
   "execution_count": null,
   "metadata": {
    "id": "xA9eQ9Ll4ZHT",
    "outputId": "5fbd1981-0532-4697-fb11-b13dc9003f7f"
   },
   "outputs": [],
   "source": [
    "p = sns.distplot(mock_map['num_features'])\n",
    "p.set_title('Number of guides detected (MOCK)')"
   ]
  },
  {
   "cell_type": "code",
   "execution_count": null,
   "metadata": {
    "id": "lJIjOio84ZHT",
    "outputId": "d26d632c-c73b-4249-d46c-9687b920886d"
   },
   "outputs": [],
   "source": [
    "p = sns.distplot(sars_map['num_features'])\n",
    "p.set_title('Number of guides detected (2dpi)')"
   ]
  },
  {
   "cell_type": "code",
   "execution_count": null,
   "metadata": {
    "id": "yOjYnDpG4ZHU",
    "outputId": "6d32360d-50d4-4ce9-8fc5-02c9266233d1"
   },
   "outputs": [],
   "source": [
    "print(adata)\n",
    "adata.obs.groupby('batch').count()"
   ]
  },
  {
   "cell_type": "code",
   "execution_count": null,
   "metadata": {
    "id": "wJ9HWYf74ZHU",
    "outputId": "c7ef614b-3160-4dff-b7b8-92dc4a5fa048"
   },
   "outputs": [],
   "source": [
    "sample = 'Mock'\n",
    "mock = adata[adata.obs['batch']==sample.upper(), :]\n",
    "\n",
    "# Generate fake data\n",
    "x = mock.obs['n_genes_by_counts'].to_numpy()\n",
    "y = mock.obs['total_counts'].to_numpy()\n",
    "\n",
    "# Calculate the point density\n",
    "xy = np.vstack([x,y])\n",
    "z = gaussian_kde(xy)(xy)\n",
    "\n",
    "# Sort the points by density, so that the densest points are plotted last\n",
    "idx = z.argsort()\n",
    "x, y, z = x[idx], y[idx], z[idx]\n",
    "\n",
    "fig, ax = plt.subplots(1,1, figsize=(5,4))\n",
    "im = ax.scatter(x, y, \n",
    "                c=z,\n",
    "                alpha=0.4,\n",
    "                s=10, \n",
    "                cmap='mako', \n",
    "                rasterized=True)\n",
    "ax.set_title(sample)\n",
    "ax.set_ylim([0,10000])\n",
    "ax.set_xlim([0,3000])\n",
    "ax.set_xlabel('N genes (# unique UMIs per cell)')\n",
    "ax.set_ylabel('Total counts (# UMIs)')\n",
    "fig.colorbar(im, pad=0, label='Density', ticks=[])\n"
   ]
  },
  {
   "cell_type": "code",
   "execution_count": null,
   "metadata": {
    "id": "PNZLjFuJ4ZHU",
    "outputId": "6e59c054-b705-41a5-bdf3-eb9f94007138"
   },
   "outputs": [],
   "source": [
    "sample = 'SARS-CoV-2'\n",
    "sars = adata[adata.obs['batch']=='SARS2', :]\n",
    "\n",
    "# Generate fake data\n",
    "x = sars.obs['n_genes_by_counts'].to_numpy()\n",
    "y = sars.obs['total_counts'].to_numpy()\n",
    "\n",
    "# Calculate the point density\n",
    "xy = np.vstack([x,y])\n",
    "z = gaussian_kde(xy)(xy)\n",
    "\n",
    "# Sort the points by density, so that the densest points are plotted last\n",
    "idx = z.argsort()\n",
    "x, y, z = x[idx], y[idx], z[idx]\n",
    "\n",
    "fig, ax = plt.subplots(1,1, figsize=(5,4))\n",
    "im = ax.scatter(x, y, \n",
    "                c=z,\n",
    "                alpha=0.4,\n",
    "                s=10, \n",
    "                cmap='mako', \n",
    "                rasterized=True)\n",
    "ax.set_title(sample)\n",
    "ax.set_xlabel('N genes (# unique UMIs per cell)')\n",
    "ax.set_ylabel('Total counts (# UMIs)')\n",
    "ax.set_ylim([0,10000])\n",
    "ax.set_xlim([0,3000])\n",
    "fig.colorbar(im, pad=0, label='Density', ticks=[])\n"
   ]
  },
  {
   "cell_type": "code",
   "execution_count": null,
   "metadata": {
    "id": "L6br32IF4ZHV",
    "outputId": "40d183c5-00a5-4cc9-f13b-de2bdbe61c2e"
   },
   "outputs": [],
   "source": [
    "sample = 'SARS-CoV-2'\n",
    "\n",
    "# Generate fake data\n",
    "x = sars.obs['n_genes_by_counts'].to_numpy()\n",
    "y = sars.obs['total_counts'].to_numpy()\n",
    "\n",
    "fig, ax = plt.subplots(1,1, figsize=(5,4))\n",
    "im = ax.scatter(x, y, \n",
    "                c=np.asarray(sars.raw[:, 'SARS-CoV-2'].X.todense()).flatten(),\n",
    "                alpha=0.4,\n",
    "                s=10, \n",
    "                cmap='RdYlBu_r', \n",
    "                rasterized=True)\n",
    "ax.set_title(sample)\n",
    "ax.set_xlabel('N genes (# unique UMIs per cell)')\n",
    "ax.set_ylabel('Total counts (# UMIs)')\n",
    "ax.set_ylim([0,10000])\n",
    "ax.set_xlim([0,3000])\n",
    "fig.colorbar(im, pad=0, label='SARS-CoV-2 counts',)\n"
   ]
  },
  {
   "cell_type": "code",
   "execution_count": null,
   "metadata": {
    "id": "AGS6Wvaa4ZHV",
    "outputId": "905795be-ab48-4c4c-d310-1b6596b441fe"
   },
   "outputs": [],
   "source": [
    "sc.pl.pca(adata, color=['SARS-CoV-2', 'batch'])"
   ]
  },
  {
   "cell_type": "code",
   "execution_count": null,
   "metadata": {
    "id": "pdivGmV74ZHV",
    "outputId": "4acb71ac-4a15-4ea1-ab6b-7ea3608a989c"
   },
   "outputs": [],
   "source": [
    "sc.external.pp.bbknn(adata, neighbors_within_batch=15, n_pcs=50)\n",
    "sc.tl.umap(adata)\n",
    "sc.tl.leiden(adata)\n",
    "sc.pl.umap(adata, color=['SARS-CoV-2', 'batch'])"
   ]
  },
  {
   "cell_type": "code",
   "execution_count": null,
   "metadata": {
    "id": "Peb8hRCh4ZHV",
    "outputId": "732f275c-2d4f-4c46-8c0e-99caa91cfba0"
   },
   "outputs": [],
   "source": [
    "sars.obs['Viral counts (raw)'] = sars.raw[:, 'SARS-CoV-2'].X.todense()"
   ]
  },
  {
   "cell_type": "code",
   "execution_count": null,
   "metadata": {
    "id": "k2QMsAzh4ZHW",
    "outputId": "69a40896-b88a-4c30-a9ae-bb763430e8d5"
   },
   "outputs": [],
   "source": [
    "fig, ax = plt.subplots(1,1,figsize=(4,3))\n",
    "sns.histplot(sars.obs.loc[sars.obs['Viral counts (raw)']>0, 'Viral counts (raw)'], bins=[0,1,1e1,1e2,1e3,1e4,1e5], ax=ax)\n",
    "ax.set_xscale('log')"
   ]
  },
  {
   "cell_type": "code",
   "execution_count": null,
   "metadata": {
    "id": "7rTpJNQb4ZHW",
    "outputId": "f262d9cc-a700-427f-a189-3b96cd224411"
   },
   "outputs": [],
   "source": [
    "fig, ax = plt.subplots(1,1,figsize=(4,3))\n",
    "sns.distplot(sars.obs.loc[sars.obs['Viral counts (raw)']>0, 'Viral counts (raw)'], ax=ax)\n",
    "# ax.set_xscale('log')"
   ]
  },
  {
   "cell_type": "code",
   "execution_count": null,
   "metadata": {
    "id": "HCr5QIvZ4ZHW"
   },
   "outputs": [],
   "source": [
    "sars.obs['geq10'] = 'Bystander'\n",
    "sars.obs.loc[sars.obs['Viral counts (raw)']>=10, 'geq10'] = 'Infected' \n",
    "\n",
    "sars.obs['geq1'] = 'Bystander'\n",
    "sars.obs.loc[sars.obs['Viral counts (raw)']>=1, 'geq1'] = 'Infected' \n",
    "\n",
    "sars.obs['geq100'] = 'Bystander'\n",
    "sars.obs.loc[sars.obs['Viral counts (raw)']>=100, 'geq100'] = 'Infected' "
   ]
  },
  {
   "cell_type": "code",
   "execution_count": null,
   "metadata": {
    "id": "Rp-sdjBm4ZHW",
    "outputId": "c06c94a6-9b17-4ceb-8386-c4cd8073a2bc"
   },
   "outputs": [],
   "source": [
    "fig, ax = plt.subplots(1,1, figsize=(2,4))\n",
    "infected_bars = [(sars.obs['geq1']=='Infected').sum()/sars.shape[0],\n",
    "                 (sars.obs['geq10']=='Infected').sum()/sars.shape[0],\n",
    "                 (sars.obs['geq100']=='Infected').sum()/sars.shape[0],]\n",
    "bystander_bars = [(sars.obs['geq1']=='Bystander').sum()/sars.shape[0],\n",
    "                  (sars.obs['geq10']=='Bystander').sum()/sars.shape[0],\n",
    "                  (sars.obs['geq100']=='Bystander').sum()/sars.shape[0],]\n",
    "ax.bar(['>=1', '>=10', '>=100'], infected_bars,\n",
    "        color=sns.color_palette('pastel')[3], label='Infected')\n",
    "ax.bar(['>=1', '>=10', '>=100'], bystander_bars,\n",
    "       bottom=infected_bars,\n",
    "        color=sns.color_palette('pastel')[5], label='Bystander')\n",
    "ax.legend(bbox_to_anchor=(1,1))\n",
    "\n",
    "ax.set_xlabel('Infection threshold\\n(raw viral counts)')\n",
    "ax.set_ylabel('Proportion of cells in SARS-CoV-2 sample')\n",
    "# ax.set_xticklabels(ax.get_xticklabels(), rotation=45, ha='right')\n",
    "                          "
   ]
  },
  {
   "cell_type": "code",
   "execution_count": null,
   "metadata": {
    "id": "zw2IizNA4ZHW",
    "outputId": "043771b2-a650-4fc1-afc2-fa8121eed305"
   },
   "outputs": [],
   "source": [
    "sc.tl.pca(sars)\n",
    "sc.pp.neighbors(sars, n_pcs=50)\n",
    "sc.tl.leiden(sars)\n",
    "sc.tl.umap(sars)\n",
    "sc.pl.umap(sars, color=['geq10', 'SARS-CoV-2', 'leiden', 'ACE2'], ncols=2)"
   ]
  },
  {
   "cell_type": "markdown",
   "metadata": {
    "id": "izLUyAOr4ZHX"
   },
   "source": [
    "# Guide mapping"
   ]
  },
  {
   "cell_type": "code",
   "execution_count": null,
   "metadata": {
    "id": "FMIEAxkx4ZHX"
   },
   "outputs": [],
   "source": [
    "sars.obs.index = [i.split('-SARS2')[0] for i in sars.obs.index]\n",
    "sars_map.index = sars_map['cell_barcode']\n",
    "sars.obs = sars.obs.merge(sars_map.loc[sars_map['num_features']==1, ['feature_call']], left_index=True, right_index=True, how='left')\n"
   ]
  },
  {
   "cell_type": "code",
   "execution_count": null,
   "metadata": {
    "id": "jv4aED2h4ZHX",
    "outputId": "bae7ba6d-0bb9-4779-a927-7e72f51aabbb"
   },
   "outputs": [],
   "source": [
    "sc.pl.umap(sars, color=['geq10', 'SARS-CoV-2', 'leiden', 'ACE2', 'feature_call'], ncols=2)"
   ]
  },
  {
   "cell_type": "code",
   "execution_count": null,
   "metadata": {
    "id": "Ba1w7l9Y4ZHX",
    "outputId": "963f0af8-78c8-495d-c13e-00d26f21d125"
   },
   "outputs": [],
   "source": [
    "# merge both \n",
    "mock_map['cell_barcode'].isin(sars_map['cell_barcode']).sum()"
   ]
  },
  {
   "cell_type": "code",
   "execution_count": null,
   "metadata": {
    "id": "mu_aO2F_4ZHX",
    "outputId": "67158bab-b8a7-4f39-f973-f0d706df5bbc"
   },
   "outputs": [],
   "source": [
    "adata.obs"
   ]
  },
  {
   "cell_type": "code",
   "execution_count": null,
   "metadata": {
    "id": "uHpIE3LI4ZHY"
   },
   "outputs": [],
   "source": [
    "mock_map.index = [i+'-MOCK' for i in mock_map['cell_barcode']]\n",
    "sars_map.index = [i+'-SARS2' for i in sars_map['cell_barcode']]\n",
    "mapping = pd.concat([mock_map, sars_map])\n",
    "adata.obs = adata.obs.merge(mapping.loc[mapping['num_features']==1, ['feature_call']], left_index=True, right_index=True, how='left')\n"
   ]
  },
  {
   "cell_type": "code",
   "execution_count": null,
   "metadata": {
    "id": "AMAVoKjS4ZHY"
   },
   "outputs": [],
   "source": [
    "adata.obs['raw_scv2'] = np.asarray(adata.raw[:, 'SARS-CoV-2'].X.todense()).flatten()\n",
    "adata.obs['Infected'] = 'Mock'\n",
    "adata.obs.loc[((adata.obs['raw_scv2']>=10) & (adata.obs['batch']=='SARS2')), 'Infected'] = 'Infected'\n",
    "adata.obs.loc[((adata.obs['raw_scv2']<10) & (adata.obs['batch']=='SARS2')), 'Infected'] = 'Bystander'"
   ]
  },
  {
   "cell_type": "code",
   "execution_count": null,
   "metadata": {
    "id": "S4VW5zzw4ZHY"
   },
   "outputs": [],
   "source": [
    "adata.obs['new_feature_call'] = [i.split('-')[0] if ('Targeting' not in i) else i for i in adata.obs['feature_call'].fillna('None')]"
   ]
  },
  {
   "cell_type": "code",
   "execution_count": null,
   "metadata": {
    "id": "MOgdUKkS4ZHY"
   },
   "outputs": [],
   "source": [
    "if True:\n",
    "    # customize list\n",
    "    goi =  [\n",
    "        'ACE2',\n",
    "        'UBXN7',\n",
    "    #     'JMJD6',\n",
    "    #     'ATRX',\n",
    "    #     'PCBD1',\n",
    "    #     'DPF2',\n",
    "        'CTSL',\n",
    "    #     'PHIP',\n",
    "    #     'ACVR1B',\n",
    "    #     'ARID1A',\n",
    "    #     'TMX3',\n",
    "        'DPP4',\n",
    "    #     'PIAS2',\n",
    "    #     'RAD54L2',\n",
    "        'ANPEP',\n",
    "        'DYRK1A',\n",
    "        'SMAD3',\n",
    "    #     'PIAS1',\n",
    "    #     'SIAH1',\n",
    "    #     'ADAM17',\n",
    "    #     'PHF6',\n",
    "        'TMPRSS4',\n",
    "    #     'SMARCE1',\n",
    "    #     'CABIN1',\n",
    "    #     'DOLK',\n",
    "        'TMPRSS2',\n",
    "        'SMARCA5',\n",
    "    #     'LOC103223006',\n",
    "    ]\n",
    "else:\n",
    "    goi = []\n",
    "    for i in adata.obs.new_feature_call.unique():\n",
    "        if 'Targeting' not in i and 'None' not in i:\n",
    "            goi.append(i)\n",
    "\n",
    "adata.obs['sgRNA'] = 'Other guide'\n",
    "adata.obs.loc[adata.obs['feature_call'].isna(), 'sgRNA'] = 'None'\n",
    "for g in goi:\n",
    "    adata.obs.loc[adata.obs['new_feature_call']==g, 'sgRNA'] = g"
   ]
  },
  {
   "cell_type": "code",
   "execution_count": null,
   "metadata": {
    "id": "Hzx2riNh4ZHZ",
    "outputId": "ffe1d17a-d5fd-4427-cf7e-f2800f37ad7a"
   },
   "outputs": [],
   "source": [
    "sc.pl.umap(adata[adata.obs['sgRNA']!='Other guide', :], color=['Infected', 'sgRNA'], ncols=2)"
   ]
  },
  {
   "cell_type": "code",
   "execution_count": null,
   "metadata": {
    "id": "91E-Qkzb4ZHZ"
   },
   "outputs": [],
   "source": [
    "cmap_guide = {v:sns.color_palette()[i] for i,v in enumerate(goi)}\n",
    "cmap_guide['Other guide'] = '#DCDBE2'\n",
    "cmap_guide['None'] = '#E5E5E5'"
   ]
  },
  {
   "cell_type": "code",
   "execution_count": null,
   "metadata": {
    "id": "JlSBd-fY4ZHZ"
   },
   "outputs": [],
   "source": [
    "adata.obs['size'] = 4\n",
    "adata.obs.loc[(adata.obs['sgRNA']=='Other guide') | (adata.obs['sgRNA']=='None'), 'size'] = 1"
   ]
  },
  {
   "cell_type": "code",
   "execution_count": null,
   "metadata": {
    "id": "wzVibPuv4ZHZ",
    "outputId": "95110b05-1fb7-43ed-f194-897b2118e3cd"
   },
   "outputs": [],
   "source": [
    "fig, ax = plt.subplots(1,1, figsize=(4,3))\n",
    "sns.scatterplot(\n",
    "    x=adata.obsm['X_umap'][:,0],\n",
    "    y=adata.obsm['X_umap'][:,1],\n",
    "    hue=adata.obs['sgRNA'].astype(str),\n",
    "    style=None,\n",
    "    size=None,\n",
    "    data=None,\n",
    "    palette=cmap_guide,\n",
    "    hue_order=None,\n",
    "    hue_norm=None,\n",
    "    sizes=None,\n",
    "    size_order=None,\n",
    "    size_norm=None,\n",
    "    markers=True,\n",
    "    style_order=None,\n",
    "    x_bins=None,\n",
    "    y_bins=None,\n",
    "    units=None,\n",
    "    estimator=None,\n",
    "    ci=95,\n",
    "    n_boot=1000,\n",
    "    alpha=None,\n",
    "    x_jitter=None,\n",
    "    y_jitter=None,\n",
    "    legend='auto',\n",
    "    ax=ax,\n",
    "    linewidth=0,\n",
    "    s=adata.obs['size'].astype(float),\n",
    "    rasterized=True,\n",
    ")\n",
    "ax.legend(bbox_to_anchor=(1,1))\n",
    "ax.set_xticks([])\n",
    "ax.set_yticks([])\n",
    "ax.set_xlabel('UMAP1')\n",
    "ax.set_ylabel('UMAP2')\n",
    "ax.set_title('Guides')\n",
    "fig.savefig(os.path.join(pfp, 'umap_guides_of_interest.png'), dpi=600, bbox_inches='tight')"
   ]
  },
  {
   "cell_type": "code",
   "execution_count": null,
   "metadata": {
    "id": "0TmnfKJy4ZHZ",
    "outputId": "1c6104c9-4c96-4739-c74a-d45535a91371"
   },
   "outputs": [],
   "source": [
    "pfp"
   ]
  },
  {
   "cell_type": "code",
   "execution_count": null,
   "metadata": {
    "id": "3i5xtcEJ4ZHZ",
    "outputId": "720ada74-d8ba-4844-ac51-ae0edb708e50"
   },
   "outputs": [],
   "source": [
    "sc.settings.figdir = pfp\n",
    "sc.pl.umap(adata, color=['Infected'], save='_infection.png')"
   ]
  },
  {
   "cell_type": "code",
   "execution_count": null,
   "metadata": {
    "id": "l7DJnZuy4ZHZ",
    "outputId": "2d4c349e-00aa-46fc-8752-9c36186a6222"
   },
   "outputs": [],
   "source": [
    "fig, ax = plt.subplots(1,1, figsize=(4,3))\n",
    "sns.scatterplot(\n",
    "    x=adata.obsm['X_umap'][:,0],\n",
    "    y=adata.obsm['X_umap'][:,1],\n",
    "    hue=adata.obs['Infected'].astype(str),\n",
    "    style=None,\n",
    "    size=None,\n",
    "    data=None,\n",
    "#     palette=cmap_guide,\n",
    "    hue_order=None,\n",
    "    hue_norm=None,\n",
    "    sizes=None,\n",
    "    size_order=None,\n",
    "    size_norm=None,\n",
    "    markers=True,\n",
    "    style_order=None,\n",
    "    x_bins=None,\n",
    "    y_bins=None,\n",
    "    units=None,\n",
    "    estimator=None,\n",
    "    ci=95,\n",
    "    n_boot=1000,\n",
    "    alpha=None,\n",
    "    x_jitter=None,\n",
    "    y_jitter=None,\n",
    "    legend='auto',\n",
    "    ax=ax,\n",
    "    linewidth=0,\n",
    "    s=1, #adata.obs['size'].astype(float),\n",
    "    rasterized=True,\n",
    ")\n",
    "ax.legend(bbox_to_anchor=(1,1))\n",
    "ax.set_xticks([])\n",
    "ax.set_yticks([])\n",
    "ax.set_xlabel('UMAP1')\n",
    "ax.set_ylabel('UMAP2')\n",
    "ax.set_title('Condition')\n",
    "fig.savefig(os.path.join(pfp, 'umap_infection.png'), dpi=600, bbox_inches='tight')"
   ]
  },
  {
   "cell_type": "code",
   "execution_count": null,
   "metadata": {
    "id": "TERT9KvT4ZHa",
    "outputId": "b6c1cd3d-2957-40da-bfa1-482107aeba14"
   },
   "outputs": [],
   "source": [
    "adata.obs"
   ]
  },
  {
   "cell_type": "code",
   "execution_count": null,
   "metadata": {
    "id": "xmpwqa6M4ZHb",
    "outputId": "ca7b301a-eac5-41d5-f93d-6d81da54e51b"
   },
   "outputs": [],
   "source": [
    "for i in adata.obs['new_feature_call'].unique():\n",
    "    print(i)\n",
    "adata.obs['labels'] = [np.nan if 'None' in i or 'Non-Targ' in i else i for i in adata.obs['new_feature_call']] "
   ]
  },
  {
   "cell_type": "code",
   "execution_count": null,
   "metadata": {
    "id": "W3r0n0Cd4ZHb",
    "outputId": "ebb57a1e-3631-4cb4-8d1f-ba6b112eccfc"
   },
   "outputs": [],
   "source": [
    "for i in adata.obs['labels'].unique():\n",
    "    print(i)"
   ]
  },
  {
   "cell_type": "code",
   "execution_count": null,
   "metadata": {
    "id": "u5ha9yaZ4ZHb",
    "outputId": "6996fea6-64c8-4172-b261-175c52a8aba0"
   },
   "outputs": [],
   "source": [
    "len(adata.obs['labels'].unique())"
   ]
  },
  {
   "cell_type": "code",
   "execution_count": null,
   "metadata": {
    "id": "iIyBeZCL4ZHb",
    "outputId": "bf6f9248-1887-40d4-89ed-b1f1c19536d0"
   },
   "outputs": [],
   "source": [
    "# save adata\n",
    "if True :\n",
    "    # save\n",
    "    adata.write(os.path.join(pdfp,'crispr_shallow.h5ad'))\n",
    "    print('\\n... saved @'+datetime.datetime.now().strftime('%y%m%d.%H:%M:%S'))"
   ]
  },
  {
   "cell_type": "code",
   "execution_count": null,
   "metadata": {
    "id": "CoCG1vnF4ZHb"
   },
   "outputs": [],
   "source": []
  }
 ],
 "metadata": {
  "colab": {
   "name": "get_data_4dist_encoder.ipynb",
   "provenance": [],
   "toc_visible": true
  },
  "kernelspec": {
   "display_name": "Python 3",
   "language": "python",
   "name": "python3"
  },
  "language_info": {
   "codemirror_mode": {
    "name": "ipython",
    "version": 3
   },
   "file_extension": ".py",
   "mimetype": "text/x-python",
   "name": "python",
   "nbconvert_exporter": "python",
   "pygments_lexer": "ipython3",
   "version": "3.8.8"
  }
 },
 "nbformat": 4,
 "nbformat_minor": 4
}
